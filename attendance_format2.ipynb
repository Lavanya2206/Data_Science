{
  "nbformat": 4,
  "nbformat_minor": 0,
  "metadata": {
    "colab": {
      "name": "attendance-format2.ipynb",
      "provenance": [],
      "collapsed_sections": []
    },
    "kernelspec": {
      "name": "python3",
      "display_name": "Python 3"
    }
  },
  "cells": [
    {
      "cell_type": "code",
      "metadata": {
        "id": "1wZoAWCFnizs",
        "colab": {
          "base_uri": "https://localhost:8080/"
        },
        "outputId": "54db8f40-c6f0-4ae8-bba2-f15c68758856"
      },
      "source": [
        "from google.colab import drive\n",
        "drive.mount('/content/drive')"
      ],
      "execution_count": 1,
      "outputs": [
        {
          "output_type": "stream",
          "text": [
            "Mounted at /content/drive\n"
          ],
          "name": "stdout"
        }
      ]
    },
    {
      "cell_type": "code",
      "metadata": {
        "id": "w6DkCwJQnkZ4"
      },
      "source": [
        "import pandas as pd\n",
        "import chardet\n",
        "import os"
      ],
      "execution_count": 3,
      "outputs": []
    },
    {
      "cell_type": "code",
      "metadata": {
        "id": "ZiIycRVPnrrg",
        "colab": {
          "base_uri": "https://localhost:8080/"
        },
        "outputId": "89be2489-c1fe-4e09-c2f2-31740fd8ebc6"
      },
      "source": [
        "set_diff_df=[]\n",
        "val=[]\n",
        "name_list=pd.read_excel('/content/drive/My Drive/Attendance/namelist.xlsx')\n",
        "name_list['Roll Number']=name_list['Roll Number'].str.strip()\n",
        "reg_no_full=name_list['Roll Number']\n",
        "directory = os.path.join(\"/content/drive/My Drive/\",\"Attendance/data\")\n",
        "for root,dirs,files in os.walk(directory):\n",
        "    for file in files:\n",
        "       if file.endswith(\".csv\"):\n",
        "           path='/content/drive/My Drive/Attendance/data/'\n",
        "           with open(path+file, 'rb') as f:\n",
        "              result = chardet.detect(f.read())\n",
        "           print(file)\n",
        "           data = pd.read_csv(path+file,encoding=result['encoding'],sep='\\t',skiprows = 6) \n",
        "           \n",
        "           data.sort_values(\"Full Name\", inplace = True) \n",
        "           data.drop_duplicates(subset =\"Full Name\",keep ='first', inplace = True)\n",
        "           data['Reg No']=data['Full Name'].apply(lambda st: st[st.find(\"[\")+1:st.find(\"]\")])\n",
        "           data[\"Join Time\"] = data[\"Join Time\"].apply(pd.to_datetime)\n",
        "           present=data['Reg No']\n",
        "           set_diff_df.append((pd.concat([reg_no_full, present, present]).drop_duplicates(keep=False)).to_string(index=False))\n",
        "           val.append(str(data['Join Time'][0].date().day)+'-'+str(data['Join Time'][0].date().month)+'-'+str(data['Join Time'][0].date().year))\n",
        "          \n",
        "new_val= pd.DataFrame(list(zip(val, set_diff_df)),columns =['date', 'absentees']) \n",
        "new_val.to_excel('/content/drive/My Drive/Attendance/consolidated.xlsx',index=False)"
      ],
      "execution_count": 4,
      "outputs": [
        {
          "output_type": "stream",
          "text": [
            "meetingAttendanceReport(19CSE102-Tuesday - Session -4).csv\n"
          ],
          "name": "stdout"
        }
      ]
    },
    {
      "cell_type": "code",
      "metadata": {
        "id": "Oo0BdT4Y28zX"
      },
      "source": [
        ""
      ],
      "execution_count": null,
      "outputs": []
    }
  ]
}