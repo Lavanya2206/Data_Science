{
  "nbformat": 4,
  "nbformat_minor": 0,
  "metadata": {
    "colab": {
      "name": "final_time_attendan.ipynb",
      "provenance": [],
      "collapsed_sections": []
    },
    "kernelspec": {
      "name": "python3",
      "display_name": "Python 3"
    },
    "language_info": {
      "name": "python"
    }
  },
  "cells": [
    {
      "cell_type": "code",
      "metadata": {
        "colab": {
          "base_uri": "https://localhost:8080/"
        },
        "id": "9pmwBOhWxdds",
        "outputId": "da0bbc8e-6363-409f-ad36-d38c54c566da"
      },
      "source": [
        "from google.colab import drive\n",
        "drive.mount('/content/drive')"
      ],
      "execution_count": 1,
      "outputs": [
        {
          "output_type": "stream",
          "text": [
            "Drive already mounted at /content/drive; to attempt to forcibly remount, call drive.mount(\"/content/drive\", force_remount=True).\n"
          ],
          "name": "stdout"
        }
      ]
    },
    {
      "cell_type": "code",
      "metadata": {
        "id": "YJ38Ynvixf_n"
      },
      "source": [
        "import pandas as pd\n",
        "import chardet\n",
        "import os\n",
        "import numpy as np"
      ],
      "execution_count": 2,
      "outputs": []
    },
    {
      "cell_type": "code",
      "metadata": {
        "colab": {
          "base_uri": "https://localhost:8080/"
        },
        "id": "BLn-oV0Cxofu",
        "outputId": "085b60ea-f633-4b87-cee2-7aed35a49f83"
      },
      "source": [
        "set_diff_df=[]\n",
        "val=[]\n",
        "name_list=pd.read_excel('/content/drive/My Drive/Attendance/namelist.xlsx')\n",
        "name_list['Roll Number']=name_list['Roll Number'].str.strip()\n",
        "reg_no_full=name_list['Roll Number']\n",
        "path='/content/drive/My Drive/Attendance/data/'\n",
        "os.chdir('/content/drive/My Drive/Attendance/data')\n",
        "for file in os.listdir():\n",
        "  if file.endswith(\".csv\"):\n",
        "    print(file)\n",
        "    with open(path+file, 'rb') as f:\n",
        "              result = chardet.detect(f.read())\n",
        "    data = pd.read_csv(path+file,encoding=result['encoding'],sep='\\t',skiprows = 6) \n",
        "\n",
        "    \n",
        "    data['Reg No']=data['Full Name'].apply(lambda st: st[st.find(\"[\")+1:st.find(\"]\")])\n",
        "    data[\"Join Time\"] = data[\"Join Time\"].apply(pd.to_datetime)\n",
        "\n",
        "    new = data[\"Duration\"].str.split(\" \", n = 1, expand = True)\n",
        "    data[\"T1\"]= new[0]\n",
        "    data[\"T2\"]= new[1]\n",
        "\n",
        "    data[\"T1\"].fillna(\"0s\",inplace=True)\n",
        "    data[\"T2\"].fillna(\"0s\",inplace=True)\n",
        "\n",
        "    data['Activity_1']=0\n",
        "    data['Activity_2']=0\n",
        "\n",
        "    # create a list of our conditions\n",
        "    conditions = [(data['T1'].str.contains('h')),(data['T1'].str.contains('m')),(data['T1'].str.contains('s'))]\n",
        "\n",
        "    # create a list of the values we want to assign for each condition\n",
        "    values = [(data['T1'].str.extract('(\\d+)').astype(float)), (data['T1'].str.extract('(\\d+)').astype(float)), ((data['T1'].str.extract('(\\d+)').astype(float)))]\n",
        "\n",
        "    # create a new column and use np.select to assign values to it using our lists as arguments\n",
        "    data['Activity_1']  = np.select(conditions, values)\n",
        "\n",
        "    conditions = [(data['T1'].str.contains('h')),(data['T1'].str.contains('m')),(data['T1'].str.contains('s')) ]\n",
        "\n",
        "    values = [data['Activity_1'] *3600, data['Activity_1']*60, data['Activity_1'] ]\n",
        "\n",
        "    data['Activity_1']  = np.select(conditions, values)\n",
        "\n",
        "    # create a list of our conditions\n",
        "    conditions = [(data['T2'].str.contains('h')),(data['T2'].str.contains('m')),(data['T2'].str.contains('s'))]\n",
        "\n",
        "    # create a list of the values we want to assign for each condition\n",
        "    values = [(data['T2'].str.extract('(\\d+)').astype(float)), (data['T2'].str.extract('(\\d+)').astype(float)), ((data['T2'].str.extract('(\\d+)').astype(float)))]\n",
        "\n",
        "    # create a new column and use np.select to assign values to it using our lists as arguments\n",
        "    data['Activity_2']  = np.select(conditions, values)\n",
        "\n",
        "    conditions = [(data['T2'].str.contains('h')),(data['T2'].str.contains('m')),(data['T2'].str.contains('s'))]\n",
        "\n",
        "    values = [data['Activity_2'] *3600, data['Activity_2']*60, data['Activity_2'] ]\n",
        "\n",
        "    data['Activity_2']  = np.select(conditions, values)\n",
        "\n",
        "    data['total_time_spent']=data['Activity_1']+data['Activity_2']\n",
        "    #print(data.shape)\n",
        "    final_df=data.groupby(['Reg No'],as_index = False).sum()\n",
        "    #print(final_df.shape)\n",
        "    final_df.drop(['Activity_1','Activity_2'],axis=1,inplace=True)\n",
        "    #final_df.reset_index(inplace=True)\n",
        "    #final_df.drop_duplicates(subset =\"Reg No\",keep ='first', inplace = True)\n",
        "    final_df=final_df[final_df['total_time_spent']>1800]\n",
        "    #print(final_df.shape)\n",
        "\n",
        "    present=final_df['Reg No']\n",
        "    set_diff_df.append((pd.concat([reg_no_full, present, present]).drop_duplicates(keep=False)).to_string(index=False))\n",
        "    val.append(str(data['Join Time'].iloc[0].date().day)+'-'+str(data['Join Time'].iloc[0].date().month)+'-'+str(data['Join Time'].iloc[0].date().year))\n",
        "new_val= pd.DataFrame(list(zip(val, set_diff_df)),columns =['date', 'absentees']) \n",
        "new_val.to_excel('/content/drive/My Drive/Attendance/data/consolidated.xlsx',index=False)"
      ],
      "execution_count": 3,
      "outputs": [
        {
          "output_type": "stream",
          "text": [
            "meetingAttendanceReport(19CSE102-Tuesday - Session -4).csv\n",
            "meetingAttendanceReport(19CSE102-Tuesday - Session -4) (1).csv\n",
            "meetingAttendanceReport(19CSE102-Monday - First Session).csv\n",
            "meetingAttendanceReport(19CSE102-Monday - First Session) (1).csv\n",
            "meetingAttendanceReport(19CSE102-Monday - First Session) (2).csv\n",
            "meetingAttendanceReport( 19CSE102- Friday - First Session).csv\n",
            "meetingAttendanceReport( 19CSE102- Friday - First Session) (1).csv\n",
            "meetingAttendanceReport( 19CSE102- Friday - First Session) (2).csv\n",
            "meetingAttendanceReport(19CSE102- Lab - Friday AN).csv\n"
          ],
          "name": "stdout"
        }
      ]
    },
    {
      "cell_type": "code",
      "metadata": {
        "colab": {
          "base_uri": "https://localhost:8080/",
          "height": 406
        },
        "id": "2nIthCX4zqNs",
        "outputId": "9a9ec514-dc2d-4aeb-f64a-7c77413a1090"
      },
      "source": [
        "final_df"
      ],
      "execution_count": 4,
      "outputs": [
        {
          "output_type": "execute_result",
          "data": {
            "text/html": [
              "<div>\n",
              "<style scoped>\n",
              "    .dataframe tbody tr th:only-of-type {\n",
              "        vertical-align: middle;\n",
              "    }\n",
              "\n",
              "    .dataframe tbody tr th {\n",
              "        vertical-align: top;\n",
              "    }\n",
              "\n",
              "    .dataframe thead th {\n",
              "        text-align: right;\n",
              "    }\n",
              "</style>\n",
              "<table border=\"1\" class=\"dataframe\">\n",
              "  <thead>\n",
              "    <tr style=\"text-align: right;\">\n",
              "      <th></th>\n",
              "      <th>Reg No</th>\n",
              "      <th>total_time_spent</th>\n",
              "    </tr>\n",
              "  </thead>\n",
              "  <tbody>\n",
              "    <tr>\n",
              "      <th>0</th>\n",
              "      <td>CB.EN.U4ECE20001</td>\n",
              "      <td>7866.0</td>\n",
              "    </tr>\n",
              "    <tr>\n",
              "      <th>2</th>\n",
              "      <td>CB.EN.U4ECE20003</td>\n",
              "      <td>9213.0</td>\n",
              "    </tr>\n",
              "    <tr>\n",
              "      <th>3</th>\n",
              "      <td>CB.EN.U4ECE20004</td>\n",
              "      <td>9433.0</td>\n",
              "    </tr>\n",
              "    <tr>\n",
              "      <th>4</th>\n",
              "      <td>CB.EN.U4ECE20005</td>\n",
              "      <td>9444.0</td>\n",
              "    </tr>\n",
              "    <tr>\n",
              "      <th>5</th>\n",
              "      <td>CB.EN.U4ECE20006</td>\n",
              "      <td>9255.0</td>\n",
              "    </tr>\n",
              "    <tr>\n",
              "      <th>...</th>\n",
              "      <td>...</td>\n",
              "      <td>...</td>\n",
              "    </tr>\n",
              "    <tr>\n",
              "      <th>64</th>\n",
              "      <td>CB.EN.U4ECE20067</td>\n",
              "      <td>9402.0</td>\n",
              "    </tr>\n",
              "    <tr>\n",
              "      <th>65</th>\n",
              "      <td>CB.EN.U4ECE20068</td>\n",
              "      <td>8852.0</td>\n",
              "    </tr>\n",
              "    <tr>\n",
              "      <th>66</th>\n",
              "      <td>CB.EN.U4ECE20069</td>\n",
              "      <td>6720.0</td>\n",
              "    </tr>\n",
              "    <tr>\n",
              "      <th>67</th>\n",
              "      <td>CB.EN.U4ECE20070</td>\n",
              "      <td>9240.0</td>\n",
              "    </tr>\n",
              "    <tr>\n",
              "      <th>68</th>\n",
              "      <td>Dhanya N.M (CSE</td>\n",
              "      <td>10020.0</td>\n",
              "    </tr>\n",
              "  </tbody>\n",
              "</table>\n",
              "<p>66 rows × 2 columns</p>\n",
              "</div>"
            ],
            "text/plain": [
              "              Reg No  total_time_spent\n",
              "0   CB.EN.U4ECE20001            7866.0\n",
              "2   CB.EN.U4ECE20003            9213.0\n",
              "3   CB.EN.U4ECE20004            9433.0\n",
              "4   CB.EN.U4ECE20005            9444.0\n",
              "5   CB.EN.U4ECE20006            9255.0\n",
              "..               ...               ...\n",
              "64  CB.EN.U4ECE20067            9402.0\n",
              "65  CB.EN.U4ECE20068            8852.0\n",
              "66  CB.EN.U4ECE20069            6720.0\n",
              "67  CB.EN.U4ECE20070            9240.0\n",
              "68   Dhanya N.M (CSE           10020.0\n",
              "\n",
              "[66 rows x 2 columns]"
            ]
          },
          "metadata": {
            "tags": []
          },
          "execution_count": 4
        }
      ]
    },
    {
      "cell_type": "code",
      "metadata": {
        "colab": {
          "base_uri": "https://localhost:8080/",
          "height": 364
        },
        "id": "SaGt9MojBGL-",
        "outputId": "1de18390-199c-4c8a-fcf4-936dd6a1e236"
      },
      "source": [
        "data.head()"
      ],
      "execution_count": 5,
      "outputs": [
        {
          "output_type": "execute_result",
          "data": {
            "text/html": [
              "<div>\n",
              "<style scoped>\n",
              "    .dataframe tbody tr th:only-of-type {\n",
              "        vertical-align: middle;\n",
              "    }\n",
              "\n",
              "    .dataframe tbody tr th {\n",
              "        vertical-align: top;\n",
              "    }\n",
              "\n",
              "    .dataframe thead th {\n",
              "        text-align: right;\n",
              "    }\n",
              "</style>\n",
              "<table border=\"1\" class=\"dataframe\">\n",
              "  <thead>\n",
              "    <tr style=\"text-align: right;\">\n",
              "      <th></th>\n",
              "      <th>Full Name</th>\n",
              "      <th>Join Time</th>\n",
              "      <th>Leave Time</th>\n",
              "      <th>Duration</th>\n",
              "      <th>Email</th>\n",
              "      <th>Role</th>\n",
              "      <th>Reg No</th>\n",
              "      <th>T1</th>\n",
              "      <th>T2</th>\n",
              "      <th>Activity_1</th>\n",
              "      <th>Activity_2</th>\n",
              "      <th>total_time_spent</th>\n",
              "    </tr>\n",
              "  </thead>\n",
              "  <tbody>\n",
              "    <tr>\n",
              "      <th>0</th>\n",
              "      <td>NEKKANTI SRI SAI VENKATA PRANEETH - [CB.EN.U4E...</td>\n",
              "      <td>2021-04-23 13:45:52</td>\n",
              "      <td>4/23/2021, 4:48:20 PM</td>\n",
              "      <td>3h 2m</td>\n",
              "      <td>cb.en.u4ece20037@cb.students.amrita.edu</td>\n",
              "      <td>Presenter</td>\n",
              "      <td>CB.EN.U4ECE20037</td>\n",
              "      <td>3h</td>\n",
              "      <td>2m</td>\n",
              "      <td>10800.0</td>\n",
              "      <td>120.0</td>\n",
              "      <td>10920.0</td>\n",
              "    </tr>\n",
              "    <tr>\n",
              "      <th>1</th>\n",
              "      <td>Samudrala Santhosh Raj - [CB.EN.U4ECE20052]</td>\n",
              "      <td>2021-04-23 13:48:56</td>\n",
              "      <td>4/23/2021, 3:52:12 PM</td>\n",
              "      <td>2h 3m</td>\n",
              "      <td>cb.en.u4ece20052@cb.students.amrita.edu</td>\n",
              "      <td>Presenter</td>\n",
              "      <td>CB.EN.U4ECE20052</td>\n",
              "      <td>2h</td>\n",
              "      <td>3m</td>\n",
              "      <td>7200.0</td>\n",
              "      <td>180.0</td>\n",
              "      <td>7380.0</td>\n",
              "    </tr>\n",
              "    <tr>\n",
              "      <th>2</th>\n",
              "      <td>Samudrala Santhosh Raj - [CB.EN.U4ECE20052]</td>\n",
              "      <td>2021-04-23 16:00:07</td>\n",
              "      <td>4/23/2021, 4:48:20 PM</td>\n",
              "      <td>48m 12s</td>\n",
              "      <td>cb.en.u4ece20052@cb.students.amrita.edu</td>\n",
              "      <td>Presenter</td>\n",
              "      <td>CB.EN.U4ECE20052</td>\n",
              "      <td>48m</td>\n",
              "      <td>12s</td>\n",
              "      <td>2880.0</td>\n",
              "      <td>12.0</td>\n",
              "      <td>2892.0</td>\n",
              "    </tr>\n",
              "    <tr>\n",
              "      <th>3</th>\n",
              "      <td>SARAN S R - [CB.EN.U4ECE20053]</td>\n",
              "      <td>2021-04-23 13:52:08</td>\n",
              "      <td>4/23/2021, 4:48:18 PM</td>\n",
              "      <td>2h 56m</td>\n",
              "      <td>cb.en.u4ece20053@cb.students.amrita.edu</td>\n",
              "      <td>Presenter</td>\n",
              "      <td>CB.EN.U4ECE20053</td>\n",
              "      <td>2h</td>\n",
              "      <td>56m</td>\n",
              "      <td>7200.0</td>\n",
              "      <td>3360.0</td>\n",
              "      <td>10560.0</td>\n",
              "    </tr>\n",
              "    <tr>\n",
              "      <th>4</th>\n",
              "      <td>Rupika M - [CB.EN.U4ECE20050]</td>\n",
              "      <td>2021-04-23 13:55:45</td>\n",
              "      <td>4/23/2021, 3:50:59 PM</td>\n",
              "      <td>1h 55m</td>\n",
              "      <td>cb.en.u4ece20050@cb.students.amrita.edu</td>\n",
              "      <td>Presenter</td>\n",
              "      <td>CB.EN.U4ECE20050</td>\n",
              "      <td>1h</td>\n",
              "      <td>55m</td>\n",
              "      <td>3600.0</td>\n",
              "      <td>3300.0</td>\n",
              "      <td>6900.0</td>\n",
              "    </tr>\n",
              "  </tbody>\n",
              "</table>\n",
              "</div>"
            ],
            "text/plain": [
              "                                           Full Name  ... total_time_spent\n",
              "0  NEKKANTI SRI SAI VENKATA PRANEETH - [CB.EN.U4E...  ...          10920.0\n",
              "1        Samudrala Santhosh Raj - [CB.EN.U4ECE20052]  ...           7380.0\n",
              "2        Samudrala Santhosh Raj - [CB.EN.U4ECE20052]  ...           2892.0\n",
              "3                     SARAN S R - [CB.EN.U4ECE20053]  ...          10560.0\n",
              "4                      Rupika M - [CB.EN.U4ECE20050]  ...           6900.0\n",
              "\n",
              "[5 rows x 12 columns]"
            ]
          },
          "metadata": {
            "tags": []
          },
          "execution_count": 5
        }
      ]
    },
    {
      "cell_type": "code",
      "metadata": {
        "id": "1OMVf125CBnA"
      },
      "source": [
        ""
      ],
      "execution_count": null,
      "outputs": []
    }
  ]
}